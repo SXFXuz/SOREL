{
 "cells": [
  {
   "cell_type": "code",
   "execution_count": 1,
   "metadata": {},
   "outputs": [],
   "source": [
    "import os\n",
    "from src.utils.training import get_objective, get_optimizer\n",
    "from src.utils.data import load_dataset\n",
    "from scipy.optimize import minimize\n",
    "\n",
    "import matplotlib.pyplot as plt\n",
    "import numpy as np\n",
    "import torch\n",
    "from tqdm import tqdm\n",
    " \n",
    "from src.optim.SOREL import Sorel\n",
    "from src.optim.SOREL_batch import SorelBatch"
   ]
  },
  {
   "cell_type": "code",
   "execution_count": 2,
   "metadata": {},
   "outputs": [],
   "source": [
    "# import folktables\n",
    "from folktables import ACSDataSource, ACSEmployment\n",
    "\n",
    "from sklearn.model_selection import train_test_split\n",
    "from sklearn.preprocessing import StandardScaler\n",
    "from sklearn.model_selection import KFold"
   ]
  },
  {
   "cell_type": "markdown",
   "metadata": {},
   "source": [
    "# Load Dataset"
   ]
  },
  {
   "cell_type": "code",
   "execution_count": 3,
   "metadata": {},
   "outputs": [],
   "source": [
    "# law school data\n",
    "dir = './data/lawschool/'\n",
    "features = np.load(os.path.join(dir,'regression_X.npy'))\n",
    "labels = np.load(os.path.join(dir,'regression_y.npy'))\n",
    "group = np.load(os.path.join(dir,'regression_group.npy'))\n",
    "\n",
    "# acs employment data\n",
    "# data_source = ACSDataSource(survey_year='2018', horizon='1-Year', survey='person')\n",
    "# acs_data = data_source.get_data(states=[\"CA\"], download=True)\n",
    "# acs_data = acs_data.sample(n=10000, random_state=1)\n",
    "# features, labels, group = ACSEmployment.df_to_numpy(acs_data)"
   ]
  },
  {
   "cell_type": "code",
   "execution_count": 4,
   "metadata": {},
   "outputs": [],
   "source": [
    "def get_data_fold(features, label, group, train_index, test_index):\n",
    "    X_train, X_test = features[train_index], features[test_index]\n",
    "    y_train, y_test = label[train_index], label[test_index]\n",
    "    group_train, group_test = group[train_index], group[test_index]\n",
    "\n",
    "    y_mean = np.mean(y_train)\n",
    "    y_train = y_train - y_mean\n",
    "    y_test = y_test - y_mean\n",
    "\n",
    "    scaler = StandardScaler().fit(X_train)\n",
    "    X_train = scaler.transform(X_train)\n",
    "    X_test = scaler.transform(X_test)\n",
    "\n",
    "    X_train = torch.tensor(X_train)\n",
    "    X_test = torch.tensor(X_test)\n",
    "    y_train = torch.tensor(y_train)\n",
    "    y_test = torch.tensor(y_test)\n",
    "    return X_train, y_train, X_test, y_test, group_train, group_test"
   ]
  },
  {
   "cell_type": "code",
   "execution_count": 5,
   "metadata": {},
   "outputs": [],
   "source": [
    "val_num = 15\n",
    "kf = KFold(n_splits=5, shuffle=True, random_state=val_num) \n",
    "train_index, test_index = next(kf.split(features))\n",
    "X_train, y_train, X_test, y_test, group_train, group_test = get_data_fold(features, labels, group, train_index, test_index)"
   ]
  },
  {
   "cell_type": "markdown",
   "metadata": {},
   "source": [
    "# Get Objective and Optimizer"
   ]
  },
  {
   "cell_type": "code",
   "execution_count": 6,
   "metadata": {},
   "outputs": [],
   "source": [
    "X_train, y_train, X_test, y_test, group_train, group_test = get_data_fold(features, labels, group, train_index, test_index)\n",
    "model_cfg = {\n",
    "    \"objective\": \"cvar\", # Options: 'cvar', 'extremile', 'esrm'.\n",
    "    \"para_value\": 0.95,  # to apply alpha-cvar, rho-esrm or r-extremile,  set para_value = 1-alpha (cvar) or rho (esrm) or r (extremile).\n",
    "    \"l2_reg\": 1.0,\n",
    "    \"loss\": \"squared_error\",  # 'squared_error' for law school data, 'binary_cross_entropy' for acs employment data.\n",
    "    \"n_class\": None,\n",
    "    \"shift_cost\": 0,\n",
    "}\n",
    "autodiff = False # non-autodiff variants\n",
    "train_obj = get_objective(model_cfg, X_train, y_train, autodiff=autodiff)\n",
    "val_obj   = get_objective(model_cfg, X_test, y_test, autodiff=autodiff)"
   ]
  },
  {
   "cell_type": "markdown",
   "metadata": {},
   "source": [
    "# Training"
   ]
  },
  {
   "cell_type": "code",
   "execution_count": 7,
   "metadata": {},
   "outputs": [
    {
     "name": "stdout",
     "output_type": "stream",
     "text": [
      "L-BGFS sucsess! Minimum loss: 0.0248\n"
     ]
    }
   ],
   "source": [
    "# Get the optimal solution by L-BFGS\n",
    "train_obj_ = get_objective(model_cfg, X_train, y_train)\n",
    "\n",
    "# Define function and Jacobian oracles.\n",
    "def fun(w):\n",
    "    return train_obj_.get_batch_loss(torch.tensor(w, dtype=torch.float64)).item()\n",
    "\n",
    "def jac(w):\n",
    "    return (\n",
    "        train_obj_.get_batch_subgrad(\n",
    "            torch.tensor(w, dtype=torch.float64, requires_grad=True)\n",
    "        )\n",
    "        .detach()\n",
    "        .numpy()\n",
    "    )\n",
    "\n",
    "# Run optimizer.\n",
    "d = train_obj.d\n",
    "init = np.zeros((d,), dtype=np.float64)\n",
    "if model_cfg[\"n_class\"]:\n",
    "    init = np.zeros((model_cfg[\"n_class\"] * d,), dtype=np.float64)\n",
    "else:\n",
    "    init = np.zeros((d,), dtype=np.float64)\n",
    "output = minimize(fun, init, method=\"L-BFGS-B\", jac=jac)\n",
    "if output.success:\n",
    "    print(f\"L-BGFS sucsess! Minimum loss: {output.fun:0.4f}\")\n",
    "else:\n",
    "    raise Exception(output.message)"
   ]
  },
  {
   "cell_type": "code",
   "execution_count": 8,
   "metadata": {},
   "outputs": [],
   "source": [
    "lr = 3e-4\n",
    "lrd = 1e3\n",
    "seed = 1\n",
    "optimizer = SorelBatch(\n",
    "            train_obj,\n",
    "            lr=lr,\n",
    "            smooth_coef=0,\n",
    "            smoothing=\"l2\",\n",
    "            seed=seed,\n",
    "            length_epoch=train_obj.n,\n",
    "            lrdcon=lrd,\n",
    "            xlrcon=20,\n",
    "            batch_size = 64\n",
    "        )"
   ]
  },
  {
   "cell_type": "code",
   "execution_count": 9,
   "metadata": {},
   "outputs": [],
   "source": [
    "# You can get baseline optimizers by running the following code.\n",
    "# optim_cfg = {\n",
    "#         \"optimizer\": \"sgd\", # Options: 'sgd', 'lsvrg_batch', 'prospect_batch'\n",
    "#         \"lr\": lr,\n",
    "#         \"epoch_len\": train_obj.n, # Used as an update interval for LSVRG, and otherwise is simply a logging interval for other methods.\n",
    "#         \"shift_cost\": 0,\n",
    "#     }\n",
    "\n",
    "# optimizer = get_optimizer(optim_cfg, train_obj, seed)"
   ]
  },
  {
   "cell_type": "code",
   "execution_count": 10,
   "metadata": {},
   "outputs": [
    {
     "name": "stderr",
     "output_type": "stream",
     "text": [
      "100%|██████████| 100/100 [00:03<00:00, 27.94it/s]\n"
     ]
    }
   ],
   "source": [
    "n_epochs = 100\n",
    "\n",
    "train_losses = []\n",
    "epoch_len = optimizer.get_epoch_len()\n",
    "for epoch in tqdm(range(n_epochs)):\n",
    "\n",
    "    optimizer.start_epoch()\n",
    "    for _ in range(epoch_len):\n",
    "        optimizer.step()\n",
    "    optimizer.end_epoch()\n",
    "    train_losses.append(train_obj.get_batch_loss(optimizer.weights).item())"
   ]
  },
  {
   "cell_type": "code",
   "execution_count": 11,
   "metadata": {},
   "outputs": [
    {
     "data": {
      "image/png": "[encoded data removed]",
      "text/plain": [
       "<Figure size 500x500 with 1 Axes>"
      ]
     },
     "metadata": {},
     "output_type": "display_data"
    }
   ],
   "source": [
    "# Display training loss.\n",
    "\n",
    "fig, ax = plt.subplots(1, 1, figsize=(5, 5))\n",
    "\n",
    "t = np.arange(len(train_losses))\n",
    "\n",
    "minimum_loss = output.fun\n",
    "train_losses = np.array(train_losses)\n",
    "subopt = (train_losses - minimum_loss) / (train_losses[0] - minimum_loss)\n",
    "\n",
    "ax.plot(np.arange(len(subopt)), subopt, linewidth=3, label=r\"Train Suboptimality\")\n",
    "ax.set_xlabel(\"Epochs\")\n",
    "\n",
    "ax.legend()\n",
    "ax.set_yscale(\"log\")\n",
    "plt.show()"
   ]
  },
  {
   "cell_type": "markdown",
   "metadata": {},
   "source": [
    "# Compute the Fairness Metrics "
   ]
  },
  {
   "cell_type": "code",
   "execution_count": 12,
   "metadata": {},
   "outputs": [
    {
     "name": "stdout",
     "output_type": "stream",
     "text": [
      "Test SMD: 0.036091131113593446\n"
     ]
    }
   ],
   "source": [
    "# Test SMD for the law school regression task \n",
    "group_label1 = 0\n",
    "group_label2 = 1\n",
    "y_pred = torch.matmul(val_obj.X, optimizer.weights.clone().detach())\n",
    "y_pred_mean = torch.mean(y_pred)\n",
    "y_pred_g1 = torch.mean(y_pred[group_test==group_label1])\n",
    "y_pred_g2 = torch.mean(y_pred[group_test==group_label2])\n",
    "print(\"Test SMD:\", torch.abs(y_pred_g1-y_pred_mean).item() + torch.abs(y_pred_g2-y_pred_mean).item())"
   ]
  },
  {
   "cell_type": "code",
   "execution_count": 13,
   "metadata": {},
   "outputs": [],
   "source": [
    "# Test EO for the acs employment classification task\n",
    "# group_label1 = 1\n",
    "# group_label2 = 2\n",
    "# logits = torch.matmul(val_obj.X, optimizer.weights.clone().detach())\n",
    "# y = logits > 0\n",
    "# y = torch.where(y, torch.tensor(1), torch.tensor(0))\n",
    "# eo_1 = torch.mean(y[(val_obj.y == 1) & (group_test == group_label1)].float())\n",
    "# eo_2= torch.mean(y[(val_obj.y == 1) & (group_test == group_label2)].float())\n",
    "# print(\"Test Equal opportunity:\", (eo_1-eo_2).item())"
   ]
  }
 ],
 "metadata": {
  "kernelspec": {
   "display_name": "lrm",
   "language": "python",
   "name": "python3"
  },
  "language_info": {
   "codemirror_mode": {
    "name": "ipython",
    "version": 3
   },
   "file_extension": ".py",
   "mimetype": "text/x-python",
   "name": "python",
   "nbconvert_exporter": "python",
   "pygments_lexer": "ipython3",
   "version": "3.8.12"
  }
 },
 "nbformat": 4,
 "nbformat_minor": 2
}
