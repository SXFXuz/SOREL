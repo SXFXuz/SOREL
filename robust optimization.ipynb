{
 "cells": [
  {
   "cell_type": "code",
   "execution_count": 1,
   "metadata": {},
   "outputs": [],
   "source": [
    "import os\n",
    "from src.utils.training import get_objective, get_optimizer\n",
    "from src.utils.data import load_dataset\n",
    "from scipy.optimize import minimize\n",
    "\n",
    "import matplotlib.pyplot as plt\n",
    "import numpy as np\n",
    "import torch\n",
    "import torch.nn.functional as F\n",
    "from tqdm import tqdm\n",
    "from src.optim.SOREL_batch import SorelBatch"
   ]
  },
  {
   "cell_type": "markdown",
   "metadata": {},
   "source": [
    "# Load Dataset"
   ]
  },
  {
   "cell_type": "code",
   "execution_count": 2,
   "metadata": {},
   "outputs": [],
   "source": [
    "dataset = \"amazon\"\n",
    "\n",
    "X_train, y_train, X_val, y_val = load_dataset(dataset)"
   ]
  },
  {
   "cell_type": "markdown",
   "metadata": {},
   "source": [
    "# Get Objective and Optimizer"
   ]
  },
  {
   "cell_type": "code",
   "execution_count": 3,
   "metadata": {},
   "outputs": [],
   "source": [
    "# Build objective.\n",
    "model_cfg = {\n",
    "    \"objective\": \"cvar\", # Options: 'cvar', 'extremile', 'esrm'. You can also append '_lite' and '_hard' for a less/more skewed spectrum.\n",
    "    \"l2_reg\": 1.0,\n",
    "    \"para_value\": 0.25,  # to apply alpha-cvar, rho-esrm or r-extremile,  set para_value = 1-alpha (cvar) or rho (esrm) or r (extremile).\n",
    "    \"loss\": \"multinomial_cross_entropy\",  # Options: 'squared_error', 'binary_cross_entropy', 'multinomial_cross_entropy'.\n",
    "    # \"n_class\": torch.max(y_train) + 1,\n",
    "    \"n_class\": 5,\n",
    "    \"shift_cost\": 0,\n",
    "}\n",
    "autodiff = False # non-autodiff variants\n",
    "train_obj = get_objective(model_cfg, X_train, y_train, autodiff=autodiff)\n",
    "val_obj   = get_objective(model_cfg, X_val, y_val, autodiff=autodiff)"
   ]
  },
  {
   "cell_type": "code",
   "execution_count": 4,
   "metadata": {},
   "outputs": [],
   "source": [
    "lr = 0.3\n",
    "lrd = 0.02\n",
    "seed = 1\n",
    "optimizer = SorelBatch(\n",
    "            train_obj,\n",
    "            lr=lr,\n",
    "            smooth_coef=0,\n",
    "            smoothing=\"l2\",\n",
    "            seed=seed,\n",
    "            length_epoch=train_obj.n,\n",
    "            lrdcon=lrd,\n",
    "            xlrcon=20,\n",
    "            batch_size = 64\n",
    "        )\n",
    "\n",
    "# "
   ]
  },
  {
   "cell_type": "code",
   "execution_count": 5,
   "metadata": {},
   "outputs": [],
   "source": [
    "# You can get baseline optimizers by running the following code.\n",
    "# optim_cfg = {\n",
    "#         \"optimizer\": \"sgd\", # Options: 'sgd', 'lsvrg_batch', 'prospect_batch'\n",
    "#         \"lr\": lr,\n",
    "#         \"epoch_len\": train_obj.n, # Used as an update interval for LSVRG, and otherwise is simply a logging interval for other methods.\n",
    "#         \"shift_cost\": 0,\n",
    "#     }\n",
    "\n",
    "# optimizer = get_optimizer(optim_cfg, train_obj, seed)"
   ]
  },
  {
   "cell_type": "markdown",
   "metadata": {},
   "source": [
    "# Training"
   ]
  },
  {
   "cell_type": "code",
   "execution_count": 6,
   "metadata": {},
   "outputs": [
    {
     "name": "stdout",
     "output_type": "stream",
     "text": [
      "L-BGFS sucsess! Minimum loss on amazon: 1.36986277\n"
     ]
    }
   ],
   "source": [
    "# Get the optimal solution by L-BFGS\n",
    "train_obj_ = get_objective(model_cfg, X_train, y_train)\n",
    "\n",
    "# # Define function and Jacobian oracles.\n",
    "def fun(w):\n",
    "    return train_obj_.get_batch_loss(torch.tensor(w, dtype=torch.float64)).item()\n",
    "\n",
    "def jac(w):\n",
    "    return (\n",
    "        train_obj_.get_batch_subgrad(\n",
    "            torch.tensor(w, dtype=torch.float64, requires_grad=True)\n",
    "        )\n",
    "        .detach()\n",
    "        .numpy()\n",
    "    )\n",
    "\n",
    "# Run optimizer.\n",
    "d = train_obj.d\n",
    "init = np.zeros((d,), dtype=np.float64)\n",
    "if model_cfg[\"n_class\"]:\n",
    "    init = np.zeros((model_cfg[\"n_class\"] * d,), dtype=np.float64)\n",
    "else:\n",
    "    init = np.zeros((d,), dtype=np.float64)\n",
    "output = minimize(fun, init, method=\"L-BFGS-B\", jac=jac)\n",
    "# output = minimize(fun, init, method='CG', jac=jac, options={'disp': True, 'eps': 1e0})\n",
    "if output.success:\n",
    "    print(f\"L-BGFS sucsess! Minimum loss on {dataset}: {output.fun:0.8f}\")\n",
    "else:\n",
    "    raise Exception(output.message)"
   ]
  },
  {
   "cell_type": "code",
   "execution_count": 7,
   "metadata": {},
   "outputs": [
    {
     "name": "stderr",
     "output_type": "stream",
     "text": [
      "100%|██████████| 200/200 [00:17<00:00, 11.63it/s]\n"
     ]
    }
   ],
   "source": [
    "n_epochs = 200\n",
    "train_losses = []\n",
    "epoch_len = optimizer.get_epoch_len()\n",
    "for epoch in tqdm(range(n_epochs)):\n",
    "\n",
    "    optimizer.start_epoch()\n",
    "    for _ in range(epoch_len):\n",
    "        optimizer.step()\n",
    "    optimizer.end_epoch()\n",
    "    train_losses.append(train_obj.get_batch_loss(optimizer.weights).item())"
   ]
  },
  {
   "cell_type": "code",
   "execution_count": 8,
   "metadata": {},
   "outputs": [
    {
     "data": {
      "image/png": "[encoded data removed]",
      "text/plain": [
       "<Figure size 500x500 with 1 Axes>"
      ]
     },
     "metadata": {},
     "output_type": "display_data"
    }
   ],
   "source": [
    "# Display training loss.\n",
    "\n",
    "fig, ax = plt.subplots(1, 1, figsize=(5, 5))\n",
    "\n",
    "t = np.arange(len(train_losses))\n",
    "\n",
    "minimum_loss = output.fun\n",
    "train_losses = np.array(train_losses)\n",
    "subopt = (train_losses - minimum_loss) / (train_losses[0] - minimum_loss)\n",
    "\n",
    "ax.plot(np.arange(len(subopt)), subopt, linewidth=3, label=r\"Train Suboptimality\")\n",
    "ax.set_xlabel(\"Epochs\")\n",
    "\n",
    "ax.legend()\n",
    "ax.set_yscale(\"log\")\n",
    "plt.show()"
   ]
  },
  {
   "cell_type": "markdown",
   "metadata": {},
   "source": [
    "# Compute the Distribution Shift Metrics"
   ]
  },
  {
   "cell_type": "code",
   "execution_count": 9,
   "metadata": {},
   "outputs": [
    {
     "name": "stdout",
     "output_type": "stream",
     "text": [
      "Test worst gruop error: 0.8095238208770752\n"
     ]
    }
   ],
   "source": [
    "weights = optimizer.weights.clone().detach().view(-1, 5)\n",
    "logits = torch.matmul(X_val, weights)\n",
    "pred_probs = F.softmax(logits, dim=1)\n",
    "predictions = torch.argmax(pred_probs, dim=1)\n",
    "unique_groups = torch.unique(y_val)\n",
    "group_errors = []\n",
    "\n",
    "for group in unique_groups:\n",
    "    group_mask = (y_val == group)\n",
    "    group_predictions = predictions[group_mask]\n",
    "    group_labels = y_val[group_mask]\n",
    "    misclassified = (group_predictions != group_labels).float().sum()\n",
    "    group_error_rate = misclassified / group_mask.sum()\n",
    "    group_errors.append(group_error_rate.item())\n",
    "\n",
    "worst_group_error = max(group_errors)\n",
    "print(\"Test worst gruop error:\", worst_group_error)\n"
   ]
  }
 ],
 "metadata": {
  "kernelspec": {
   "display_name": "lrm",
   "language": "python",
   "name": "python3"
  },
  "language_info": {
   "codemirror_mode": {
    "name": "ipython",
    "version": 3
   },
   "file_extension": ".py",
   "mimetype": "text/x-python",
   "name": "python",
   "nbconvert_exporter": "python",
   "pygments_lexer": "ipython3",
   "version": "3.8.12"
  }
 },
 "nbformat": 4,
 "nbformat_minor": 2
}
